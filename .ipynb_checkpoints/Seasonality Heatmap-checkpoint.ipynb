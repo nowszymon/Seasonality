{
 "cells": [
  {
   "cell_type": "code",
   "execution_count": 1,
   "metadata": {
    "collapsed": false,
    "scrolled": true
   },
   "outputs": [],
   "source": [
    "import seaborn as sns\n",
    "import pandas as pd \n",
    "import matplotlib.pyplot as plt\n",
    "\n",
    "\n",
    "instrumenty = ['xauusd']\n",
    "\n",
    "for name in instrumenty:\n",
    "    # obliczenie stóp zwrotu\n",
    "    i = pd.read_csv(name +'_m.csv', sep=',')\n",
    "    i['Miesiąc'] = pd.DatetimeIndex(i['Data']).month\n",
    "    i['Rok'] = pd.DatetimeIndex(i['Data']).year\n",
    "    i['Zmiana']=i['Zamkniecie'].pct_change()\n",
    "    i_pt = i[1:].pivot_table(index='Rok',columns='Miesiąc',values='Zmiana')\n",
    "    \n",
    "    # dopasowanie heatmapy do skali\n",
    "    fontsize_pt = plt.rcParams['ytick.labelsize']\n",
    "    dpi = 72.27\n",
    "\n",
    "    # comput the matrix height in points and inches\n",
    "    matrix_height_pt = fontsize_pt * i_pt.shape[0]\n",
    "    matrix_height_in = matrix_height_pt / dpi\n",
    "\n",
    "    # compute the required figure height \n",
    "    top_margin = 0.10  # in percentage of the figure height\n",
    "    bottom_margin = 0.15 # in percentage of the figure height\n",
    "    figure_height = matrix_height_in / (1 - top_margin - bottom_margin)\n",
    "\n",
    "\n",
    "    # build the figure instance with the desired height\n",
    "    fig, ax = plt.subplots(\n",
    "        figsize=(6,figure_height), \n",
    "        gridspec_kw=dict(top=1-top_margin, bottom=bottom_margin))\n",
    "\n",
    "    # let seaborn do it's thing\n",
    "    ax = sns.heatmap(i_pt, ax=ax, linewidths=1, cmap='PiYG',vmin=-0.1, vmax=0.1)\n",
    "    ax.set_title('{}'.format(name))\n",
    "  \n",
    "    \n",
    "    # zapisanie\n",
    "    plt.savefig('{}-sezonowosc.png'.format(name))\n",
    "    plt.close()\n",
    "   \n",
    "\n",
    "\n",
    "\n",
    "\n",
    "\n",
    "  \n",
    "   \n",
    "\n",
    " \n",
    "   "
   ]
  },
  {
   "cell_type": "code",
   "execution_count": null,
   "metadata": {
    "collapsed": true
   },
   "outputs": [],
   "source": []
  }
 ],
 "metadata": {
  "anaconda-cloud": {},
  "kernelspec": {
   "display_name": "Python [conda root]",
   "language": "python",
   "name": "conda-root-py"
  },
  "language_info": {
   "codemirror_mode": {
    "name": "ipython",
    "version": 3
   },
   "file_extension": ".py",
   "mimetype": "text/x-python",
   "name": "python",
   "nbconvert_exporter": "python",
   "pygments_lexer": "ipython3",
   "version": "3.5.2"
  }
 },
 "nbformat": 4,
 "nbformat_minor": 1
}
