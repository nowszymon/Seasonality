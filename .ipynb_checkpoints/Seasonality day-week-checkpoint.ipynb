{
 "cells": [
  {
   "cell_type": "code",
   "execution_count": 27,
   "metadata": {
    "collapsed": true
   },
   "outputs": [],
   "source": [
    "import pandas as pd\n",
    "from pandas_datareader import data, wb\n",
    "import seaborn as sns\n",
    "import numpy as np\n",
    "import datetime\n",
    "%matplotlib inline "
   ]
  },
  {
   "cell_type": "code",
   "execution_count": 28,
   "metadata": {
    "collapsed": false
   },
   "outputs": [],
   "source": [
    "def name_of_day(day):\n",
    "    if day == 0:\n",
    "        return \"Monday\"\n",
    "    elif day == 1:\n",
    "        return \"Tuesday\"\n",
    "    elif day == 2:\n",
    "        return \"Wednesday\"\n",
    "    elif day == 3:\n",
    "        return \"Thursday\"\n",
    "    elif day ==4:\n",
    "        return \"Friday\"\n",
    "    elif day == 5:\n",
    "        return \"Saturday\"\n",
    "    elif day == 6:\n",
    "        return \"Sunday\"\n",
    "def name_of_month(month):\n",
    "    if month == 1:\n",
    "        return \"January\"\n",
    "    elif month == 2:\n",
    "        return \"February\"\n",
    "    elif month == 3:\n",
    "        return \"March\"\n",
    "    elif month == 4:\n",
    "        return \"April\"\n",
    "    elif month == 5:\n",
    "        return \"May\"\n",
    "    elif month == 6:\n",
    "        return \"June\"\n",
    "    elif month == 7:\n",
    "        return \"July\"\n",
    "    elif month == 8:\n",
    "        return \"August\"\n",
    "    elif month == 9:\n",
    "        return \"September\"\n",
    "    elif month == 10:\n",
    "        return \"October\"\n",
    "    elif month == 11:\n",
    "        return \"November\"\n",
    "    elif month == 12:\n",
    "        return \"December\""
   ]
  },
  {
   "cell_type": "code",
   "execution_count": 29,
   "metadata": {
    "collapsed": true
   },
   "outputs": [],
   "source": [
    "#change it to inputs\n",
    "instrument = 'EUR=X' \n",
    "start_date = datetime.datetime(2015,1,1)\n",
    "imported_data = data.DataReader(instrument, 'yahoo',start=start_date)"
   ]
  },
  {
   "cell_type": "code",
   "execution_count": 30,
   "metadata": {
    "collapsed": true
   },
   "outputs": [],
   "source": [
    "imported_data.drop(imported_data.columns[[0,1,2,4,5]], axis=1, inplace=True)"
   ]
  },
  {
   "cell_type": "code",
   "execution_count": 31,
   "metadata": {
    "collapsed": true
   },
   "outputs": [],
   "source": [
    "imported_data['New_close'] = \"\"\n",
    "for quote in range(0,len(imported_data)):\n",
    "    imported_data.iloc[quote, 1] = 1/imported_data.iloc[quote,0]\n",
    "imported_data.drop('Close',axis=1, inplace=True)\n",
    "imported_data.columns=['Close']"
   ]
  },
  {
   "cell_type": "code",
   "execution_count": 32,
   "metadata": {
    "collapsed": false
   },
   "outputs": [],
   "source": [
    "imported_data['Timestamp'] = \"\""
   ]
  },
  {
   "cell_type": "code",
   "execution_count": 33,
   "metadata": {
    "collapsed": false
   },
   "outputs": [],
   "source": [
    "imported_data.reset_index(inplace=True)\n"
   ]
  },
  {
   "cell_type": "code",
   "execution_count": 34,
   "metadata": {
    "collapsed": false
   },
   "outputs": [],
   "source": [
    "imported_data['Day'] = \"\"\n",
    "for date in range(0,len(imported_data)-1):\n",
    "    imported_data.iloc[date,2] = imported_data.iloc[date,0].to_pydatetime()"
   ]
  },
  {
   "cell_type": "code",
   "execution_count": 35,
   "metadata": {
    "collapsed": false
   },
   "outputs": [],
   "source": [
    "for date in range(0,len(imported_data)-1):\n",
    "    imported_data.iloc[date,3] = name_of_day(imported_data.iloc[date,2].weekday())"
   ]
  },
  {
   "cell_type": "code",
   "execution_count": 36,
   "metadata": {
    "collapsed": false
   },
   "outputs": [],
   "source": [
    "imported_data['Month'] = \"\"\n",
    "for date in range(0,len(imported_data)-1):\n",
    "    imported_data.iloc[date,4] = name_of_month(imported_data.iloc[date,2].month)"
   ]
  },
  {
   "cell_type": "code",
   "execution_count": 37,
   "metadata": {
    "collapsed": false
   },
   "outputs": [],
   "source": [
    "imported_data['Year'] = \"\"\n",
    "for date in range(0,len(imported_data)-1):\n",
    "    imported_data.iloc[date,5] = imported_data.iloc[date,2].year"
   ]
  },
  {
   "cell_type": "code",
   "execution_count": 38,
   "metadata": {
    "collapsed": false,
    "scrolled": false
   },
   "outputs": [],
   "source": [
    "imported_data['Pct_change'] = imported_data['Close'].pct_change()\n",
    "imported_data.drop(['Date','Timestamp','Close'],axis=1,inplace='True')\n",
    "imported_data = imported_data[1:]\n",
    "imported_data.drop(imported_data.index[len(imported_data)-1], inplace=True)"
   ]
  },
  {
   "cell_type": "code",
   "execution_count": 39,
   "metadata": {
    "collapsed": false
   },
   "outputs": [],
   "source": [
    "imported_data['Plus'] = \"\"\n",
    "for date in range(0,len(imported_data)-1):\n",
    "    if imported_data.iloc[date,3] > 0:\n",
    "        imported_data.iloc[date,4] = 1\n",
    "    elif imported_data.iloc[date,3] < 0:\n",
    "        imported_data.iloc[date,4] = -1\n",
    "    else:\n",
    "        imported_data.iloc[date,4] = 0"
   ]
  },
  {
   "cell_type": "code",
   "execution_count": 40,
   "metadata": {
    "collapsed": true
   },
   "outputs": [],
   "source": [
    "Mean_of_day_count = imported_data['Pct_change'].groupby(imported_data['Day']).mean()"
   ]
  },
  {
   "cell_type": "code",
   "execution_count": 41,
   "metadata": {
    "collapsed": false
   },
   "outputs": [],
   "source": [
    "Day_count = imported_data['Plus'].groupby(imported_data['Day']).value_counts()"
   ]
  },
  {
   "cell_type": "code",
   "execution_count": 42,
   "metadata": {
    "collapsed": false
   },
   "outputs": [
    {
     "data": {
      "text/plain": [
       "<matplotlib.axes._subplots.AxesSubplot at 0xc971e10>"
      ]
     },
     "execution_count": 42,
     "metadata": {},
     "output_type": "execute_result"
    },
    {
     "data": {
      "image/png": "[encoded data removed]",
      "text/plain": [
       "<matplotlib.figure.Figure at 0x7361550>"
      ]
     },
     "metadata": {},
     "output_type": "display_data"
    }
   ],
   "source": [
    "Day_count.plot(kind='bar')"
   ]
  },
  {
   "cell_type": "code",
   "execution_count": 46,
   "metadata": {
    "collapsed": false
   },
   "outputs": [
    {
     "data": {
      "text/plain": [
       "<matplotlib.axes._subplots.AxesSubplot at 0xde0b358>"
      ]
     },
     "execution_count": 46,
     "metadata": {},
     "output_type": "execute_result"
    },
    {
     "data": {
      "image/png": "[encoded data removed]",
      "text/plain": [
       "<matplotlib.figure.Figure at 0xdecf748>"
      ]
     },
     "metadata": {},
     "output_type": "display_data"
    }
   ],
   "source": [
    "Mean_of_day_count.plot(kind='bar')"
   ]
  },
  {
   "cell_type": "code",
   "execution_count": null,
   "metadata": {
    "collapsed": true
   },
   "outputs": [],
   "source": []
  }
 ],
 "metadata": {
  "anaconda-cloud": {},
  "kernelspec": {
   "display_name": "Python [conda root]",
   "language": "python",
   "name": "conda-root-py"
  },
  "language_info": {
   "codemirror_mode": {
    "name": "ipython",
    "version": 3
   },
   "file_extension": ".py",
   "mimetype": "text/x-python",
   "name": "python",
   "nbconvert_exporter": "python",
   "pygments_lexer": "ipython3",
   "version": "3.5.2"
  }
 },
 "nbformat": 4,
 "nbformat_minor": 1
}
