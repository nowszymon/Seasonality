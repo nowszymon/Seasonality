{
 "cells": [
  {
   "cell_type": "code",
   "execution_count": 32,
   "metadata": {
    "collapsed": true
   },
   "outputs": [],
   "source": [
    "import pandas as pd\n",
    "from pandas_datareader import data, wb\n",
    "import seaborn as sns\n",
    "import numpy as np\n",
    "import datetime\n",
    "%matplotlib inline "
   ]
  },
  {
   "cell_type": "code",
   "execution_count": 33,
   "metadata": {
    "collapsed": true
   },
   "outputs": [],
   "source": [
    "imported_data = pd.read_csv('eurusd_w.csv')"
   ]
  },
  {
   "cell_type": "code",
   "execution_count": 35,
   "metadata": {
    "collapsed": false
   },
   "outputs": [],
   "source": [
    "imported_data.set_index(imported_data['Data'] , inplace=True)\n",
    "imported_data.drop(['Data'],axis=1,inplace=True)"
   ]
  },
  {
   "cell_type": "code",
   "execution_count": 36,
   "metadata": {
    "collapsed": false
   },
   "outputs": [],
   "source": [
    "imported_data['Count'] = \"\"\n",
    "for price in range(0,len(imported_data)):\n",
    "    if imported_data.iloc[price,3] > imported_data.iloc[price,0]:\n",
    "        imported_data.iloc[price,4] = 1 \n",
    "    elif imported_data.iloc[price,3] < imported_data.iloc[price,0]:\n",
    "        imported_data.iloc[price,4] = -1"
   ]
  },
  {
   "cell_type": "code",
   "execution_count": 37,
   "metadata": {
    "collapsed": true
   },
   "outputs": [],
   "source": [
    "agg_plus = int(1)\n",
    "agg_minus = int(-1)\n",
    "imported_data['Sum'] = \"\"\n",
    "for count in range(0,len(imported_data)-1):\n",
    "    if (imported_data.iloc[count+1,4] == imported_data.iloc[count,4]) & (imported_data.iloc[count+1,4] == 1) :\n",
    "        agg_plus += int(1)\n",
    "        imported_data.iloc[count+1,5] = int(agg_plus)\n",
    "    elif (imported_data.iloc[count+1,4] == imported_data.iloc[count,4]) & (imported_data.iloc[count+1,4] == -1) :\n",
    "        agg_minus += int(-1)\n",
    "        imported_data.iloc[count+1,5] = int(agg_minus)\n",
    "    elif (imported_data.iloc[count+1,4] != imported_data.iloc[count,4]) & (imported_data.iloc[count+1,4] == 1) :\n",
    "        imported_data.iloc[count+1,5] = int(1)\n",
    "    elif (imported_data.iloc[count+1,4] != imported_data.iloc[count,4]) & (imported_data.iloc[count+1,4] == -1) :\n",
    "        imported_data.iloc[count+1,5] = int(-1)\n",
    "    else:\n",
    "         imported_data.iloc[count+1,5] = 0\n",
    "    \n",
    "    if imported_data.iloc[count+1,4] != imported_data.iloc[count,4]:\n",
    "        agg_plus = int(1)\n",
    "        agg_minus = int(-1)\n",
    "        \n",
    "imported_data.iloc[0,5] = imported_data.iloc[0,4]    "
   ]
  },
  {
   "cell_type": "code",
   "execution_count": 38,
   "metadata": {
    "collapsed": false
   },
   "outputs": [
    {
     "data": {
      "text/plain": [
       "<matplotlib.axes._subplots.AxesSubplot at 0xc09ae48>"
      ]
     },
     "execution_count": 38,
     "metadata": {},
     "output_type": "execute_result"
    },
    {
     "data": {
      "image/png": "[encoded data removed]",
      "text/plain": [
       "<matplotlib.figure.Figure at 0xc059c18>"
      ]
     },
     "metadata": {},
     "output_type": "display_data"
    }
   ],
   "source": [
    "bar = pd.DataFrame(imported_data['Sum'].value_counts())\n",
    "bar = bar.sort_index()\n",
    "bar.plot(kind='bar', title='Number of downward(-)/upward(+) weekly candles in a row \\n\\n 2004 - present \\nEURUSD', legend='')\n"
   ]
  },
  {
   "cell_type": "code",
   "execution_count": 40,
   "metadata": {
    "collapsed": false
   },
   "outputs": [
    {
     "data": {
      "text/html": [
       "<div>\n",
       "<table border=\"1\" class=\"dataframe\">\n",
       "  <thead>\n",
       "    <tr style=\"text-align: right;\">\n",
       "      <th></th>\n",
       "      <th>Otwarcie</th>\n",
       "      <th>Najwyzszy</th>\n",
       "      <th>Najnizszy</th>\n",
       "      <th>Zamkniecie</th>\n",
       "      <th>Count</th>\n",
       "      <th>Sum</th>\n",
       "    </tr>\n",
       "    <tr>\n",
       "      <th>Data</th>\n",
       "      <th></th>\n",
       "      <th></th>\n",
       "      <th></th>\n",
       "      <th></th>\n",
       "      <th></th>\n",
       "      <th></th>\n",
       "    </tr>\n",
       "  </thead>\n",
       "  <tbody>\n",
       "    <tr>\n",
       "      <th>2004-11-05</th>\n",
       "      <td>1.2814</td>\n",
       "      <td>1.2978</td>\n",
       "      <td>1.2656</td>\n",
       "      <td>1.2973</td>\n",
       "      <td>1</td>\n",
       "      <td>7</td>\n",
       "    </tr>\n",
       "    <tr>\n",
       "      <th>2007-11-23</th>\n",
       "      <td>1.4666</td>\n",
       "      <td>1.4964</td>\n",
       "      <td>1.4620</td>\n",
       "      <td>1.4836</td>\n",
       "      <td>1</td>\n",
       "      <td>7</td>\n",
       "    </tr>\n",
       "  </tbody>\n",
       "</table>\n",
       "</div>"
      ],
      "text/plain": [
       "            Otwarcie  Najwyzszy  Najnizszy  Zamkniecie Count Sum\n",
       "Data                                                            \n",
       "2004-11-05    1.2814     1.2978     1.2656      1.2973     1   7\n",
       "2007-11-23    1.4666     1.4964     1.4620      1.4836     1   7"
      ]
     },
     "execution_count": 40,
     "metadata": {},
     "output_type": "execute_result"
    }
   ],
   "source": [
    "imported_data[imported_data['Sum'] == 7]"
   ]
  },
  {
   "cell_type": "code",
   "execution_count": null,
   "metadata": {
    "collapsed": true
   },
   "outputs": [],
   "source": []
  }
 ],
 "metadata": {
  "anaconda-cloud": {},
  "kernelspec": {
   "display_name": "Python [conda root]",
   "language": "python",
   "name": "conda-root-py"
  },
  "language_info": {
   "codemirror_mode": {
    "name": "ipython",
    "version": 3
   },
   "file_extension": ".py",
   "mimetype": "text/x-python",
   "name": "python",
   "nbconvert_exporter": "python",
   "pygments_lexer": "ipython3",
   "version": "3.5.2"
  }
 },
 "nbformat": 4,
 "nbformat_minor": 1
}
